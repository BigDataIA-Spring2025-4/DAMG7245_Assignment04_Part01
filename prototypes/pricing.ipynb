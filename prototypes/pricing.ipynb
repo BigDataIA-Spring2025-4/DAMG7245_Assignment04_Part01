{
 "cells": [
  {
   "cell_type": "markdown",
   "metadata": {},
   "source": [
    "## Athena Dataset Pricing Analysis"
   ]
  },
  {
   "cell_type": "code",
   "execution_count": 7,
   "metadata": {},
   "outputs": [],
   "source": [
    "import pandas as pd"
   ]
  },
  {
   "cell_type": "code",
   "execution_count": 11,
   "metadata": {},
   "outputs": [
    {
     "data": {
      "text/html": [
       "<div>\n",
       "<style scoped>\n",
       "    .dataframe tbody tr th:only-of-type {\n",
       "        vertical-align: middle;\n",
       "    }\n",
       "\n",
       "    .dataframe tbody tr th {\n",
       "        vertical-align: top;\n",
       "    }\n",
       "\n",
       "    .dataframe thead th {\n",
       "        text-align: right;\n",
       "    }\n",
       "</style>\n",
       "<table border=\"1\" class=\"dataframe\">\n",
       "  <thead>\n",
       "    <tr style=\"text-align: right;\">\n",
       "      <th></th>\n",
       "      <th>id</th>\n",
       "      <th>inference_id</th>\n",
       "      <th>language_model_id</th>\n",
       "      <th>prompt_tokens</th>\n",
       "      <th>completion_tokens</th>\n",
       "      <th>total_tokens</th>\n",
       "      <th>model_options</th>\n",
       "      <th>cost</th>\n",
       "    </tr>\n",
       "  </thead>\n",
       "  <tbody>\n",
       "    <tr>\n",
       "      <th>0</th>\n",
       "      <td>1</td>\n",
       "      <td>271de051-0833-49de-88fd-9f6487c9f47e</td>\n",
       "      <td>Qwen/Qwen2.5-Coder-32B-Instruct</td>\n",
       "      <td>22</td>\n",
       "      <td>356</td>\n",
       "      <td>378</td>\n",
       "      <td>{\"model_options_schema_version\":1}</td>\n",
       "      <td>NaN</td>\n",
       "    </tr>\n",
       "    <tr>\n",
       "      <th>1</th>\n",
       "      <td>2</td>\n",
       "      <td>a6fbdaa3-01f3-4736-a5c0-be4f7d7a8511</td>\n",
       "      <td>Qwen/Qwen2.5-Coder-32B-Instruct</td>\n",
       "      <td>15</td>\n",
       "      <td>61</td>\n",
       "      <td>76</td>\n",
       "      <td>{\"model_options_schema_version\":1}</td>\n",
       "      <td>NaN</td>\n",
       "    </tr>\n",
       "    <tr>\n",
       "      <th>2</th>\n",
       "      <td>3</td>\n",
       "      <td>55801018-dea5-4c73-99b2-2d2dfee76bb7</td>\n",
       "      <td>gemini-1.5-pro</td>\n",
       "      <td>91</td>\n",
       "      <td>22</td>\n",
       "      <td>113</td>\n",
       "      <td>{\"model_options_schema_version\":1}</td>\n",
       "      <td>\"0.00022375\"</td>\n",
       "    </tr>\n",
       "    <tr>\n",
       "      <th>3</th>\n",
       "      <td>4</td>\n",
       "      <td>05ef3d66-aab1-47d7-a8e2-579d4b492b3a</td>\n",
       "      <td>gemini-1.5-pro</td>\n",
       "      <td>94</td>\n",
       "      <td>2</td>\n",
       "      <td>96</td>\n",
       "      <td>{\"model_options_schema_version\":1}</td>\n",
       "      <td>\"0.0001275\"</td>\n",
       "    </tr>\n",
       "    <tr>\n",
       "      <th>4</th>\n",
       "      <td>5</td>\n",
       "      <td>37d11780-d4cb-4051-bdb0-f1d49603f302</td>\n",
       "      <td>gemini-1.5-pro</td>\n",
       "      <td>94</td>\n",
       "      <td>2</td>\n",
       "      <td>96</td>\n",
       "      <td>{\"model_options_schema_version\":1}</td>\n",
       "      <td>\"0.0001275\"</td>\n",
       "    </tr>\n",
       "  </tbody>\n",
       "</table>\n",
       "</div>"
      ],
      "text/plain": [
       "   id                          inference_id                language_model_id  \\\n",
       "0   1  271de051-0833-49de-88fd-9f6487c9f47e  Qwen/Qwen2.5-Coder-32B-Instruct   \n",
       "1   2  a6fbdaa3-01f3-4736-a5c0-be4f7d7a8511  Qwen/Qwen2.5-Coder-32B-Instruct   \n",
       "2   3  55801018-dea5-4c73-99b2-2d2dfee76bb7                   gemini-1.5-pro   \n",
       "3   4  05ef3d66-aab1-47d7-a8e2-579d4b492b3a                   gemini-1.5-pro   \n",
       "4   5  37d11780-d4cb-4051-bdb0-f1d49603f302                   gemini-1.5-pro   \n",
       "\n",
       "   prompt_tokens  completion_tokens  total_tokens  \\\n",
       "0             22                356           378   \n",
       "1             15                 61            76   \n",
       "2             91                 22           113   \n",
       "3             94                  2            96   \n",
       "4             94                  2            96   \n",
       "\n",
       "                        model_options          cost  \n",
       "0  {\"model_options_schema_version\":1}           NaN  \n",
       "1  {\"model_options_schema_version\":1}           NaN  \n",
       "2  {\"model_options_schema_version\":1}  \"0.00022375\"  \n",
       "3  {\"model_options_schema_version\":1}   \"0.0001275\"  \n",
       "4  {\"model_options_schema_version\":1}   \"0.0001275\"  "
      ]
     },
     "execution_count": 11,
     "metadata": {},
     "output_type": "execute_result"
    }
   ],
   "source": [
    "df = pd.read_csv('athina_dataset.csv')\n",
    "df.drop_duplicates()\n",
    "df.head()"
   ]
  },
  {
   "cell_type": "code",
   "execution_count": null,
   "metadata": {},
   "outputs": [],
   "source": [
    "df['cost'] = pd.to_numeric(df['cost'].str.replace('\"', ''), errors='coerce')"
   ]
  },
  {
   "cell_type": "code",
   "execution_count": 13,
   "metadata": {},
   "outputs": [],
   "source": [
    "df['cost_per_token'] = df['cost'] / df['total_tokens']"
   ]
  },
  {
   "cell_type": "code",
   "execution_count": 15,
   "metadata": {},
   "outputs": [
    {
     "name": "stdout",
     "output_type": "stream",
     "text": [
      "                 language_model_id  total_cost  prompt_tokens  \\\n",
      "0  Qwen/Qwen2.5-Coder-32B-Instruct    0.000000         248852   \n",
      "1                   gemini-1.5-pro    0.248065         191892   \n",
      "2                      gpt-4o-mini    0.034840         224554   \n",
      "3                    grok-2-latest    0.000000          91284   \n",
      "\n",
      "   response_tokens  total_tokens  avg_cost_per_token  inference_count  \n",
      "0             3660        252512                 NaN               34  \n",
      "1             1640        193532        1.530083e-06               34  \n",
      "2             1929        226483        1.620577e-07               24  \n",
      "3              728         92012                 NaN                8  \n"
     ]
    }
   ],
   "source": [
    "pricing_summary = df.groupby('language_model_id').agg(\n",
    "    total_cost=('cost', 'sum'),\n",
    "    prompt_tokens=('prompt_tokens','sum'),\n",
    "    response_tokens=('completion_tokens', 'sum'),\n",
    "    total_tokens=('total_tokens', 'sum'),\n",
    "    avg_cost_per_token=('cost_per_token', 'mean'),\n",
    "    inference_count=('id', 'count')\n",
    ").reset_index()\n",
    "\n",
    "print(pricing_summary)"
   ]
  }
 ],
 "metadata": {
  "kernelspec": {
   "display_name": "venv",
   "language": "python",
   "name": "python3"
  },
  "language_info": {
   "codemirror_mode": {
    "name": "ipython",
    "version": 3
   },
   "file_extension": ".py",
   "mimetype": "text/x-python",
   "name": "python",
   "nbconvert_exporter": "python",
   "pygments_lexer": "ipython3",
   "version": "3.12.9"
  }
 },
 "nbformat": 4,
 "nbformat_minor": 2
}
